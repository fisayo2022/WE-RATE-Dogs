{
 "cells": [
  {
   "cell_type": "code",
   "execution_count": 6,
   "metadata": {},
   "outputs": [
    {
     "data": {
      "text/html": [
       "<script>\n",
       "code_show=true; \n",
       "function code_toggle() {\n",
       " if (code_show){\n",
       " $('div.input').hide();\n",
       " } else {\n",
       " $('div.input').show();\n",
       " }\n",
       " code_show = !code_show\n",
       "} \n",
       "$( document ).ready(code_toggle);\n",
       "</script>"
      ],
      "text/plain": [
       "<IPython.core.display.HTML object>"
      ]
     },
     "execution_count": 6,
     "metadata": {},
     "output_type": "execute_result"
    }
   ],
   "source": [
    "from IPython.display import HTML\n",
    "\n",
    "HTML('''<script>\n",
    "code_show=true; \n",
    "function code_toggle() {\n",
    " if (code_show){\n",
    " $('div.input').hide();\n",
    " } else {\n",
    " $('div.input').show();\n",
    " }\n",
    " code_show = !code_show\n",
    "} \n",
    "$( document ).ready(code_toggle);\n",
    "</script>''')"
   ]
  },
  {
   "cell_type": "markdown",
   "metadata": {},
   "source": [
    "# Analysis Report for the WeRateDogs Project\n",
    "## by Fisayo Sofuwa\n",
    "\n",
    "Date: September 04, 2022\n",
    "\n",
    "### Introduction:\n",
    "\n",
    "After having gathered, assessed and cleaned WeRateDogs twitter data I conducted some analysis on the dataset to establish some insights. The final twitter archives master dataset had features like favourite count, retweet count, tweet text, dog type, image url, prediction for the images, etc.\n",
    "\n",
    "### Analysis and Visualization:\n",
    "Out of all the features in the dataset the features of interest to me were source of the tweet, common dog names.\n",
    "I found out that most of the tweet were from the Iphone device which suggested that majority were iphone users, and also there seems to be common dogs names like Charlie, Oliver, Lucy, Cooper, Penny.\n",
    "In terms of dog types, floofers had higher average ratings as compared to puppo, doggos and puppers. Though this can also be attributed to the fact that the number of dogs classified as floofers and puppos was a lot less than the number of dogs classified as doggos and puppers.\n",
    "\n",
    "The table displays all the descriptive statistics for favorite count for the dog type category. From this, the floofer were the most popular dogs. The mean and max count values are the highest. The mean value for floofer, puppo, doggo, and pupper are 22929, 22758, 16687, and 7062 respectively."
   ]
  },
  {
   "cell_type": "code",
   "execution_count": 12,
   "metadata": {},
   "outputs": [
    {
     "data": {
      "text/html": [
       "<div>\n",
       "<style scoped>\n",
       "    .dataframe tbody tr th:only-of-type {\n",
       "        vertical-align: middle;\n",
       "    }\n",
       "\n",
       "    .dataframe tbody tr th {\n",
       "        vertical-align: top;\n",
       "    }\n",
       "\n",
       "    .dataframe thead th {\n",
       "        text-align: right;\n",
       "    }\n",
       "</style>\n",
       "<table border=\"1\" class=\"dataframe\">\n",
       "  <thead>\n",
       "    <tr style=\"text-align: right;\">\n",
       "      <th></th>\n",
       "      <th>count</th>\n",
       "      <th>mean</th>\n",
       "      <th>std</th>\n",
       "      <th>min</th>\n",
       "      <th>25%</th>\n",
       "      <th>50%</th>\n",
       "      <th>75%</th>\n",
       "      <th>max</th>\n",
       "    </tr>\n",
       "    <tr>\n",
       "      <th>dog_type</th>\n",
       "      <th></th>\n",
       "      <th></th>\n",
       "      <th></th>\n",
       "      <th></th>\n",
       "      <th></th>\n",
       "      <th></th>\n",
       "      <th></th>\n",
       "      <th></th>\n",
       "    </tr>\n",
       "  </thead>\n",
       "  <tbody>\n",
       "    <tr>\n",
       "      <th>doggo</th>\n",
       "      <td>72.0</td>\n",
       "      <td>16687.916667</td>\n",
       "      <td>18881.631575</td>\n",
       "      <td>2593.0</td>\n",
       "      <td>7627.75</td>\n",
       "      <td>11606.5</td>\n",
       "      <td>17429.75</td>\n",
       "      <td>131075.0</td>\n",
       "    </tr>\n",
       "    <tr>\n",
       "      <th>floofer</th>\n",
       "      <td>3.0</td>\n",
       "      <td>22929.000000</td>\n",
       "      <td>10444.616652</td>\n",
       "      <td>12456.0</td>\n",
       "      <td>17721.00</td>\n",
       "      <td>22986.0</td>\n",
       "      <td>28165.50</td>\n",
       "      <td>33345.0</td>\n",
       "    </tr>\n",
       "    <tr>\n",
       "      <th>pupper</th>\n",
       "      <td>223.0</td>\n",
       "      <td>7062.336323</td>\n",
       "      <td>10736.379771</td>\n",
       "      <td>344.0</td>\n",
       "      <td>2342.00</td>\n",
       "      <td>3201.0</td>\n",
       "      <td>7404.50</td>\n",
       "      <td>106827.0</td>\n",
       "    </tr>\n",
       "    <tr>\n",
       "      <th>puppo</th>\n",
       "      <td>28.0</td>\n",
       "      <td>22758.928571</td>\n",
       "      <td>25633.892873</td>\n",
       "      <td>3277.0</td>\n",
       "      <td>7279.75</td>\n",
       "      <td>16529.5</td>\n",
       "      <td>25266.50</td>\n",
       "      <td>132810.0</td>\n",
       "    </tr>\n",
       "  </tbody>\n",
       "</table>\n",
       "</div>"
      ],
      "text/plain": [
       "          count          mean           std      min       25%      50%  \\\n",
       "dog_type                                                                  \n",
       "doggo      72.0  16687.916667  18881.631575   2593.0   7627.75  11606.5   \n",
       "floofer     3.0  22929.000000  10444.616652  12456.0  17721.00  22986.0   \n",
       "pupper    223.0   7062.336323  10736.379771    344.0   2342.00   3201.0   \n",
       "puppo      28.0  22758.928571  25633.892873   3277.0   7279.75  16529.5   \n",
       "\n",
       "               75%       max  \n",
       "dog_type                      \n",
       "doggo     17429.75  131075.0  \n",
       "floofer   28165.50   33345.0  \n",
       "pupper     7404.50  106827.0  \n",
       "puppo     25266.50  132810.0  "
      ]
     },
     "execution_count": 12,
     "metadata": {},
     "output_type": "execute_result"
    }
   ],
   "source": [
    "# read the cleaned twitter archive files for analysis.\n",
    "twitter = pd.read_csv('twitter_archive_master.csv')\n",
    "twitter.groupby('dog_type').favorite_count.describe()"
   ]
  },
  {
   "cell_type": "code",
   "execution_count": 13,
   "metadata": {},
   "outputs": [
    {
     "data": {
      "image/png": "[encoded data removed]",
      "text/plain": [
       "<Figure size 432x288 with 1 Axes>"
      ]
     },
     "metadata": {
      "needs_background": "light"
     },
     "output_type": "display_data"
    }
   ],
   "source": [
    "# The Pandas Scatter Plot Function of Followers count vs Favorite count.\n",
    "twitter.plot(x='retweet_count', y='favorite_count',       \n",
    "    kind='scatter', title='Followers Count vs Friends Count',   \n",
    "    xlabel='Friends Count', ylabel='Followers Count');"
   ]
  },
  {
   "cell_type": "markdown",
   "metadata": {},
   "source": [
    "We can see a positive corellation between the retweet and favorite count."
   ]
  },
  {
   "cell_type": "markdown",
   "metadata": {},
   "source": [
    "### Conclusion:\n",
    "The write up offers a straight look at the data wrangling process. There is so much more that can be done with this data set."
   ]
  }
 ],
 "metadata": {
  "kernelspec": {
   "display_name": "Python 3",
   "language": "python",
   "name": "python3"
  },
  "language_info": {
   "codemirror_mode": {
    "name": "ipython",
    "version": 3
   },
   "file_extension": ".py",
   "mimetype": "text/x-python",
   "name": "python",
   "nbconvert_exporter": "python",
   "pygments_lexer": "ipython3",
   "version": "3.8.5"
  }
 },
 "nbformat": 4,
 "nbformat_minor": 2
}
